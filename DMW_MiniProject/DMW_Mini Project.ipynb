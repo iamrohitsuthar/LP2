{
 "cells": [
  {
   "cell_type": "code",
   "execution_count": 94,
   "metadata": {},
   "outputs": [],
   "source": [
    "import os\n",
    "import sys\n",
    "import re\n",
    "import matplotlib\n",
    "import pandas as pd\n",
    "import numpy as np\n",
    "from os.path import splitext\n",
    "import ipaddress as ip\n",
    "import tldextract\n",
    "import whois\n",
    "import datetime\n",
    "from urllib.parse import urlparse\n",
    "import ipaddress as ip\n",
    "import sklearn.ensemble as ek\n",
    "from sklearn import tree, linear_model\n",
    "from sklearn.model_selection import cross_validate\n",
    "from sklearn.model_selection import train_test_split\n",
    "from sklearn.feature_selection import SelectFromModel\n",
    "from sklearn.externals import joblib\n",
    "from sklearn.naive_bayes import GaussianNB\n",
    "from sklearn.metrics import confusion_matrix\n",
    "from sklearn.pipeline import make_pipeline\n",
    "from sklearn import preprocessing\n",
    "from sklearn import svm\n",
    "from sklearn.linear_model import LogisticRegression\n",
    "from sklearn.model_selection import cross_val_score\n",
    "from  sklearn.metrics  import accuracy_score\n",
    "from sklearn import metrics\n",
    "from sklearn.metrics import confusion_matrix\n",
    "import matplotlib.pyplot as plt\n",
    "import seaborn as sns"
   ]
  },
  {
   "cell_type": "code",
   "execution_count": 71,
   "metadata": {},
   "outputs": [
    {
     "name": "stdout",
     "output_type": "stream",
     "text": [
      "Total records:  7030\n"
     ]
    },
    {
     "data": {
      "text/html": [
       "<div>\n",
       "<style scoped>\n",
       "    .dataframe tbody tr th:only-of-type {\n",
       "        vertical-align: middle;\n",
       "    }\n",
       "\n",
       "    .dataframe tbody tr th {\n",
       "        vertical-align: top;\n",
       "    }\n",
       "\n",
       "    .dataframe thead th {\n",
       "        text-align: right;\n",
       "    }\n",
       "</style>\n",
       "<table border=\"1\" class=\"dataframe\">\n",
       "  <thead>\n",
       "    <tr style=\"text-align: right;\">\n",
       "      <th></th>\n",
       "      <th>URL</th>\n",
       "      <th>Lable</th>\n",
       "    </tr>\n",
       "  </thead>\n",
       "  <tbody>\n",
       "    <tr>\n",
       "      <th>0</th>\n",
       "      <td>http://www.numerical-methods.com/</td>\n",
       "      <td>0</td>\n",
       "    </tr>\n",
       "    <tr>\n",
       "      <th>1</th>\n",
       "      <td>http://www.eshinejewelry.com/</td>\n",
       "      <td>0</td>\n",
       "    </tr>\n",
       "    <tr>\n",
       "      <th>2</th>\n",
       "      <td>http://www.chrismonroephoto.com/w/</td>\n",
       "      <td>1</td>\n",
       "    </tr>\n",
       "    <tr>\n",
       "      <th>3</th>\n",
       "      <td>http://bit.ly/2iffhNV</td>\n",
       "      <td>1</td>\n",
       "    </tr>\n",
       "    <tr>\n",
       "      <th>4</th>\n",
       "      <td>http://www.tableandvine.com/</td>\n",
       "      <td>0</td>\n",
       "    </tr>\n",
       "  </tbody>\n",
       "</table>\n",
       "</div>"
      ],
      "text/plain": [
       "                                  URL  Lable\n",
       "0   http://www.numerical-methods.com/      0\n",
       "1       http://www.eshinejewelry.com/      0\n",
       "2  http://www.chrismonroephoto.com/w/      1\n",
       "3               http://bit.ly/2iffhNV      1\n",
       "4        http://www.tableandvine.com/      0"
      ]
     },
     "execution_count": 71,
     "metadata": {},
     "output_type": "execute_result"
    }
   ],
   "source": [
    "df = pd.read_csv(\"URL_dataset.csv\")\n",
    "df = df.sample(frac=1).reset_index(drop=True)\n",
    "print(\"Total records: \",len(df))\n",
    "df.head()"
   ]
  },
  {
   "cell_type": "code",
   "execution_count": 72,
   "metadata": {},
   "outputs": [],
   "source": [
    "# Method to count number of dots\n",
    "def countdots(url):  \n",
    "    return url.count('.')\n",
    "\n",
    "# Method to count number of delimeters\n",
    "def countdelim(url):\n",
    "    count = 0\n",
    "    delim=[';','_','?','=','&']\n",
    "    for each in url:\n",
    "        if each in delim:\n",
    "            count = count + 1    \n",
    "    return count\n",
    "\n",
    "#method to check the presence of hyphens\n",
    "def isPresentHyphen(url):\n",
    "    return url.count('-')\n",
    "\n",
    "#method to check the presence of @\n",
    "def isPresentAt(url):\n",
    "    return url.count('@')\n",
    "\n",
    "def isPresentDSlash(url):\n",
    "    return url.count('//')\n",
    "\n",
    "def countSubDir(url):\n",
    "    return url.count('/')\n",
    "\n",
    "def countSubDomain(subdomain):\n",
    "    if not subdomain:\n",
    "        return 0\n",
    "    else:\n",
    "        return len(subdomain.split('.'))\n",
    "\n",
    "def countQueries(query):\n",
    "    if not query:\n",
    "        return 0\n",
    "    else:\n",
    "        return len(query.split('&'))\n",
    "    \n",
    "def get_ext(url):\n",
    "    root, ext = splitext(url)\n",
    "    return ext\n",
    "\n",
    "# Is IP addr present as th hostname, let's validate\n",
    "def isip(uri):\n",
    "    try:\n",
    "        if ip.ip_address(uri):\n",
    "            return 1\n",
    "    except:\n",
    "        return 0"
   ]
  },
  {
   "cell_type": "code",
   "execution_count": 73,
   "metadata": {},
   "outputs": [],
   "source": [
    "Suspicious_TLD=['zip','cricket','link','work','party','gq','kim','country','science','tk']\n",
    "Suspicious_Domain=['luckytime.co.kr','mattfoll.eu.interia.pl','trafficholder.com','dl.baixaki.com.br','bembed.redtube.comr','tags.expo9.exponential.com','deepspacer.com','funad.co.kr','trafficconverter.biz']\n",
    "\n",
    "featureSet = pd.DataFrame(columns=('url','no of dots','presence of hyphen','len of url','presence of at',\\\n",
    "'presence of double slash','no of subdir','no of subdomain','len of domain','no of queries','is IP','presence of Suspicious_TLD',\\\n",
    "'presence of suspicious domain','label'))"
   ]
  },
  {
   "cell_type": "code",
   "execution_count": 74,
   "metadata": {},
   "outputs": [],
   "source": [
    "def getFeatures(url, label): \n",
    "    result = []\n",
    "    url = str(url)\n",
    "    \n",
    "    #add the url to feature set\n",
    "    result.append(url)\n",
    "    \n",
    "    #parse the URL and extract the domain information\n",
    "    path = urlparse(url)\n",
    "    ext = tldextract.extract(url)\n",
    "    \n",
    "    #counting number of dots in subdomain    \n",
    "    result.append(countdots(ext.subdomain))\n",
    "    \n",
    "    #checking hyphen in domain   \n",
    "    result.append(isPresentHyphen(path.netloc))\n",
    "    \n",
    "    #length of URL    \n",
    "    result.append(len(url))\n",
    "    \n",
    "    #checking @ in the url    \n",
    "    result.append(isPresentAt(path.netloc))\n",
    "    \n",
    "    #checking presence of double slash    \n",
    "    result.append(isPresentDSlash(path.path))\n",
    "    \n",
    "    #Count number of subdir    \n",
    "    result.append(countSubDir(path.path))\n",
    "    \n",
    "    #number of sub domain    \n",
    "    result.append(countSubDomain(ext.subdomain))\n",
    "    \n",
    "    #length of domain name    \n",
    "    result.append(len(path.netloc))\n",
    "    \n",
    "    #count number of queries    \n",
    "    result.append(len(path.query))\n",
    "    \n",
    "    #Adding domain information\n",
    "    \n",
    "    #if IP address is being used as a URL     \n",
    "    result.append(isip(ext.domain))\n",
    "    \n",
    "    #presence of Suspicious_TLD\n",
    "    result.append(1 if ext.suffix in Suspicious_TLD else 0)\n",
    "    \n",
    "    #presence of suspicious domain\n",
    "    result.append(1 if '.'.join(ext[1:]) in Suspicious_Domain else 0 )\n",
    "    \n",
    "    result.append(str(label))\n",
    "    return result"
   ]
  },
  {
   "cell_type": "code",
   "execution_count": 75,
   "metadata": {},
   "outputs": [],
   "source": [
    "for i in range(len(df)):\n",
    "    features = getFeatures(df[\"URL\"].loc[i], df[\"Lable\"].loc[i])    \n",
    "    featureSet.loc[i] = features"
   ]
  },
  {
   "cell_type": "code",
   "execution_count": 76,
   "metadata": {},
   "outputs": [
    {
     "data": {
      "text/html": [
       "<div>\n",
       "<style scoped>\n",
       "    .dataframe tbody tr th:only-of-type {\n",
       "        vertical-align: middle;\n",
       "    }\n",
       "\n",
       "    .dataframe tbody tr th {\n",
       "        vertical-align: top;\n",
       "    }\n",
       "\n",
       "    .dataframe thead th {\n",
       "        text-align: right;\n",
       "    }\n",
       "</style>\n",
       "<table border=\"1\" class=\"dataframe\">\n",
       "  <thead>\n",
       "    <tr style=\"text-align: right;\">\n",
       "      <th></th>\n",
       "      <th>url</th>\n",
       "      <th>no of dots</th>\n",
       "      <th>presence of hyphen</th>\n",
       "      <th>len of url</th>\n",
       "      <th>presence of at</th>\n",
       "      <th>presence of double slash</th>\n",
       "      <th>no of subdir</th>\n",
       "      <th>no of subdomain</th>\n",
       "      <th>len of domain</th>\n",
       "      <th>no of queries</th>\n",
       "      <th>is IP</th>\n",
       "      <th>presence of Suspicious_TLD</th>\n",
       "      <th>presence of suspicious domain</th>\n",
       "      <th>label</th>\n",
       "    </tr>\n",
       "  </thead>\n",
       "  <tbody>\n",
       "    <tr>\n",
       "      <th>0</th>\n",
       "      <td>http://www.numerical-methods.com/</td>\n",
       "      <td>0</td>\n",
       "      <td>1</td>\n",
       "      <td>33</td>\n",
       "      <td>0</td>\n",
       "      <td>0</td>\n",
       "      <td>1</td>\n",
       "      <td>1</td>\n",
       "      <td>25</td>\n",
       "      <td>0</td>\n",
       "      <td>0</td>\n",
       "      <td>0</td>\n",
       "      <td>0</td>\n",
       "      <td>0</td>\n",
       "    </tr>\n",
       "    <tr>\n",
       "      <th>1</th>\n",
       "      <td>http://www.eshinejewelry.com/</td>\n",
       "      <td>0</td>\n",
       "      <td>0</td>\n",
       "      <td>29</td>\n",
       "      <td>0</td>\n",
       "      <td>0</td>\n",
       "      <td>1</td>\n",
       "      <td>1</td>\n",
       "      <td>21</td>\n",
       "      <td>0</td>\n",
       "      <td>0</td>\n",
       "      <td>0</td>\n",
       "      <td>0</td>\n",
       "      <td>0</td>\n",
       "    </tr>\n",
       "    <tr>\n",
       "      <th>2</th>\n",
       "      <td>http://www.chrismonroephoto.com/w/</td>\n",
       "      <td>0</td>\n",
       "      <td>0</td>\n",
       "      <td>34</td>\n",
       "      <td>0</td>\n",
       "      <td>0</td>\n",
       "      <td>2</td>\n",
       "      <td>1</td>\n",
       "      <td>24</td>\n",
       "      <td>0</td>\n",
       "      <td>0</td>\n",
       "      <td>0</td>\n",
       "      <td>0</td>\n",
       "      <td>1</td>\n",
       "    </tr>\n",
       "    <tr>\n",
       "      <th>3</th>\n",
       "      <td>http://bit.ly/2iffhNV</td>\n",
       "      <td>0</td>\n",
       "      <td>0</td>\n",
       "      <td>21</td>\n",
       "      <td>0</td>\n",
       "      <td>0</td>\n",
       "      <td>1</td>\n",
       "      <td>0</td>\n",
       "      <td>6</td>\n",
       "      <td>0</td>\n",
       "      <td>0</td>\n",
       "      <td>0</td>\n",
       "      <td>0</td>\n",
       "      <td>1</td>\n",
       "    </tr>\n",
       "    <tr>\n",
       "      <th>4</th>\n",
       "      <td>http://www.tableandvine.com/</td>\n",
       "      <td>0</td>\n",
       "      <td>0</td>\n",
       "      <td>28</td>\n",
       "      <td>0</td>\n",
       "      <td>0</td>\n",
       "      <td>1</td>\n",
       "      <td>1</td>\n",
       "      <td>20</td>\n",
       "      <td>0</td>\n",
       "      <td>0</td>\n",
       "      <td>0</td>\n",
       "      <td>0</td>\n",
       "      <td>0</td>\n",
       "    </tr>\n",
       "  </tbody>\n",
       "</table>\n",
       "</div>"
      ],
      "text/plain": [
       "                                  url no of dots presence of hyphen  \\\n",
       "0   http://www.numerical-methods.com/          0                  1   \n",
       "1       http://www.eshinejewelry.com/          0                  0   \n",
       "2  http://www.chrismonroephoto.com/w/          0                  0   \n",
       "3               http://bit.ly/2iffhNV          0                  0   \n",
       "4        http://www.tableandvine.com/          0                  0   \n",
       "\n",
       "  len of url presence of at presence of double slash no of subdir  \\\n",
       "0         33              0                        0            1   \n",
       "1         29              0                        0            1   \n",
       "2         34              0                        0            2   \n",
       "3         21              0                        0            1   \n",
       "4         28              0                        0            1   \n",
       "\n",
       "  no of subdomain len of domain no of queries is IP  \\\n",
       "0               1            25             0     0   \n",
       "1               1            21             0     0   \n",
       "2               1            24             0     0   \n",
       "3               0             6             0     0   \n",
       "4               1            20             0     0   \n",
       "\n",
       "  presence of Suspicious_TLD presence of suspicious domain label  \n",
       "0                          0                             0     0  \n",
       "1                          0                             0     0  \n",
       "2                          0                             0     1  \n",
       "3                          0                             0     1  \n",
       "4                          0                             0     0  "
      ]
     },
     "execution_count": 76,
     "metadata": {},
     "output_type": "execute_result"
    }
   ],
   "source": [
    "featureSet.head()"
   ]
  },
  {
   "cell_type": "code",
   "execution_count": 77,
   "metadata": {},
   "outputs": [],
   "source": [
    "import matplotlib.pyplot as plt\n",
    "import pandas as pd\n",
    "import seaborn as sns\n",
    "import pickle as pkl"
   ]
  },
  {
   "cell_type": "code",
   "execution_count": 78,
   "metadata": {},
   "outputs": [
    {
     "data": {
      "text/plain": [
       "Text(0.5, 0, 'Length of URL')"
      ]
     },
     "execution_count": 78,
     "metadata": {},
     "output_type": "execute_result"
    },
    {
     "data": {
      "image/png": "[encoded data removed]",
      "text/plain": [
       "<Figure size 432x288 with 1 Axes>"
      ]
     },
     "metadata": {},
     "output_type": "display_data"
    }
   ],
   "source": [
    "sns.set(style=\"darkgrid\")\n",
    "sns.distplot(featureSet[featureSet['label']=='0']['len of url'],color='green',label='Normal URLs')\n",
    "sns.distplot(featureSet[featureSet['label']=='1']['len of url'],color='red',label='Phishing URLs')\n",
    "plt.legend(loc='upper right')\n",
    "plt.xlabel('Length of URL')"
   ]
  },
  {
   "cell_type": "code",
   "execution_count": 79,
   "metadata": {},
   "outputs": [
    {
     "data": {
      "image/png": "[encoded data removed]",
      "text/plain": [
       "<Figure size 432x288 with 1 Axes>"
      ]
     },
     "metadata": {},
     "output_type": "display_data"
    }
   ],
   "source": [
    "x=featureSet[featureSet['label']=='0']['no of dots']\n",
    "y=featureSet[featureSet['label']=='1']['no of dots']\n",
    "plt.hist(x,bins=8, alpha=0.9, label='Normal URLs',color='blue')\n",
    "plt.hist(y,bins=10, alpha=0.6, label='Malicious URLs',color='red')\n",
    "plt.legend(loc='upper right')\n",
    "plt.xlabel('Number of Dots')\n",
    "plt.title('Distribution of Number of Dots in URL')\n",
    "plt.show()"
   ]
  },
  {
   "cell_type": "code",
   "execution_count": 80,
   "metadata": {},
   "outputs": [
    {
     "data": {
      "text/plain": [
       "Text(0.5, 0, 'Length of Domain/Host')"
      ]
     },
     "execution_count": 80,
     "metadata": {},
     "output_type": "execute_result"
    },
    {
     "data": {
      "image/png": "[encoded data removed]",
      "text/plain": [
       "<Figure size 432x288 with 1 Axes>"
      ]
     },
     "metadata": {},
     "output_type": "display_data"
    }
   ],
   "source": [
    "sns.set(style=\"darkgrid\")\n",
    "sns.distplot(featureSet[featureSet['label']=='0']['len of domain'],color='blue',label='Normal URLs')\n",
    "sns.distplot(featureSet[featureSet['label']=='1']['len of domain'],color='red',label='Malicious URLs')\n",
    "plt.legend(loc='upper right')\n",
    "plt.xlabel('Length of Domain/Host')"
   ]
  },
  {
   "cell_type": "code",
   "execution_count": 81,
   "metadata": {},
   "outputs": [
    {
     "data": {
      "text/plain": [
       "label\n",
       "0    3494\n",
       "1    3536\n",
       "dtype: int64"
      ]
     },
     "execution_count": 81,
     "metadata": {},
     "output_type": "execute_result"
    }
   ],
   "source": [
    "## Number of Normal and Phishing URL's\n",
    "featureSet.groupby(featureSet['label']).size()"
   ]
  },
  {
   "cell_type": "code",
   "execution_count": 82,
   "metadata": {},
   "outputs": [],
   "source": [
    "X = featureSet.drop(['url','label'],axis=1).values\n",
    "y = featureSet['label'].values\n",
    "X_train, X_test, y_train, y_test = train_test_split(X, y ,test_size=0.2)"
   ]
  },
  {
   "cell_type": "markdown",
   "metadata": {},
   "source": [
    "## Classification Models"
   ]
  },
  {
   "cell_type": "markdown",
   "metadata": {},
   "source": [
    "- Logistic Regression\n",
    "- Gaussian Naive Bayes\n",
    "- Decision Tree Classifier\n",
    "- Random Forest Classifier\n",
    "- AdaBoostClassifier"
   ]
  },
  {
   "cell_type": "markdown",
   "metadata": {},
   "source": [
    "### Logistic Regression"
   ]
  },
  {
   "cell_type": "code",
   "execution_count": 116,
   "metadata": {},
   "outputs": [
    {
     "name": "stdout",
     "output_type": "stream",
     "text": [
      "Accuracy: 0.84850640113798\n",
      "Cross-Validation Score 0.8453101395043078\n"
     ]
    },
    {
     "data": {
      "text/plain": [
       "Text(0.5, 1, 'Confusion Matrix')"
      ]
     },
     "execution_count": 116,
     "metadata": {},
     "output_type": "execute_result"
    },
    {
     "data": {
      "image/png": "[encoded data removed]",
      "text/plain": [
       "<Figure size 432x288 with 2 Axes>"
      ]
     },
     "metadata": {},
     "output_type": "display_data"
    }
   ],
   "source": [
    "lr = LogisticRegression(max_iter=1000)\n",
    "lr.fit(X_train, y_train)\n",
    "lr_predicted = lr.predict(X_test)\n",
    "lr_acc = accuracy_score(y_test,lr_predicted)\n",
    "print(\"Accuracy:\",lr_acc)\n",
    "\n",
    "lr_scores = cross_val_score(lr, X_train, y_train, cv=10)\n",
    "print('Cross-Validation Score', lr_scores.mean())\n",
    "\n",
    "conf_matrix = confusion_matrix(y_test, lr_predicted)\n",
    "sns.heatmap(conf_matrix,annot=True,cbar=True)\n",
    "plt.ylabel('True Label')\n",
    "plt.xlabel('Predicted Label')\n",
    "plt.title('Confusion Matrix')"
   ]
  },
  {
   "cell_type": "code",
   "execution_count": 101,
   "metadata": {},
   "outputs": [
    {
     "name": "stdout",
     "output_type": "stream",
     "text": [
      "Precision:  0.8465909090909091\n",
      "Recall:  0.8502139800285307\n"
     ]
    }
   ],
   "source": [
    "confusion_matrix(y_test, lr_predicted)\n",
    "\n",
    "tp_lr = confusion_matrix(y_test, lr_predicted)[0,0]\n",
    "fp_lr = confusion_matrix(y_test, lr_predicted)[0,1]\n",
    "tn_lr = confusion_matrix(y_test, lr_predicted)[1,1]\n",
    "fn_lr = confusion_matrix(y_test, lr_predicted)[1,0]\n",
    "\n",
    "precison_lr = tp_lr/(tp_lr+fp_lr)\n",
    "recall_lr = tp_lr/(tp_lr+fn_lr)\n",
    "\n",
    "print(\"Precision: \", precison_lr)\n",
    "print(\"Recall: \", recall_lr)"
   ]
  },
  {
   "cell_type": "markdown",
   "metadata": {},
   "source": [
    "### Gaussian Naive Bayes "
   ]
  },
  {
   "cell_type": "code",
   "execution_count": 117,
   "metadata": {},
   "outputs": [
    {
     "name": "stdout",
     "output_type": "stream",
     "text": [
      "Accuracy: 0.7027027027027027\n",
      "Cross-Validation Score 0.6621656985012926\n"
     ]
    }
   ],
   "source": [
    "GNB = GaussianNB()\n",
    "GNB.fit(X_train, y_train)\n",
    "GNB_predicted = GNB.predict(X_test)\n",
    "GNB_acc = accuracy_score(y_test,GNB_predicted)\n",
    "print(\"Accuracy:\",GNB_acc)\n",
    "\n",
    "GNB_scores = cross_val_score(GNB, X_train, y_train, cv=10)\n",
    "print('Cross-Validation Score', GNB_scores.mean())"
   ]
  },
  {
   "cell_type": "code",
   "execution_count": 104,
   "metadata": {},
   "outputs": [
    {
     "data": {
      "text/plain": [
       "array([[695,   9],\n",
       "       [409, 293]])"
      ]
     },
     "execution_count": 104,
     "metadata": {},
     "output_type": "execute_result"
    }
   ],
   "source": [
    "confusion_matrix(y_test, GNB_predicted)"
   ]
  },
  {
   "cell_type": "code",
   "execution_count": 105,
   "metadata": {},
   "outputs": [
    {
     "name": "stdout",
     "output_type": "stream",
     "text": [
      "Precision:  0.9872159090909091\n",
      "Recall:  0.6295289855072463\n"
     ]
    }
   ],
   "source": [
    "tp_GNB = confusion_matrix(y_test, GNB_predicted)[0,0]\n",
    "fp_GNB = confusion_matrix(y_test, GNB_predicted)[0,1]\n",
    "tn_GNB = confusion_matrix(y_test, GNB_predicted)[1,1]\n",
    "fn_GNB = confusion_matrix(y_test, GNB_predicted)[1,0]\n",
    "\n",
    "precison_GNB = tp_GNB/(tp_GNB+fp_GNB)\n",
    "recall_GNB = tp_GNB/(tp_GNB+fn_GNB)\n",
    "\n",
    "print(\"Precision: \", precison_GNB)\n",
    "print(\"Recall: \", recall_GNB)"
   ]
  },
  {
   "cell_type": "markdown",
   "metadata": {},
   "source": [
    "### Decision Tree Classifier"
   ]
  },
  {
   "cell_type": "code",
   "execution_count": 118,
   "metadata": {},
   "outputs": [
    {
     "name": "stdout",
     "output_type": "stream",
     "text": [
      "Accuracy: 0.9011379800853485\n",
      "Cross-Validation Score 0.8954431963995626\n"
     ]
    }
   ],
   "source": [
    "DTC = tree.DecisionTreeClassifier(max_depth=10)\n",
    "DTC.fit(X_train, y_train)\n",
    "DTC_predicted = DTC.predict(X_test)\n",
    "DTC_acc = accuracy_score(y_test,DTC_predicted)\n",
    "print(\"Accuracy:\",DTC_acc)\n",
    "\n",
    "DTC_scores = cross_val_score(DTC, X_train, y_train, cv=10)\n",
    "print('Cross-Validation Score', DTC_scores.mean())"
   ]
  },
  {
   "cell_type": "code",
   "execution_count": 108,
   "metadata": {},
   "outputs": [
    {
     "data": {
      "text/plain": [
       "array([[634,  70],\n",
       "       [ 70, 632]])"
      ]
     },
     "execution_count": 108,
     "metadata": {},
     "output_type": "execute_result"
    }
   ],
   "source": [
    "confusion_matrix(y_test, DTC_predicted)"
   ]
  },
  {
   "cell_type": "code",
   "execution_count": 109,
   "metadata": {},
   "outputs": [
    {
     "name": "stdout",
     "output_type": "stream",
     "text": [
      "Precision:  0.9005681818181818\n",
      "Recall:  0.9005681818181818\n"
     ]
    }
   ],
   "source": [
    "tp_DTC = confusion_matrix(y_test, DTC_predicted)[0,0]\n",
    "fp_DTC = confusion_matrix(y_test, DTC_predicted)[0,1]\n",
    "tn_DTC = confusion_matrix(y_test, DTC_predicted)[1,1]\n",
    "fn_DTC = confusion_matrix(y_test, DTC_predicted)[1,0]\n",
    "\n",
    "precison_DTC = tp_DTC/(tp_DTC+fp_DTC)\n",
    "recall_DTC = tp_DTC/(tp_DTC+fn_DTC)\n",
    "\n",
    "print(\"Precision: \", precison_DTC)\n",
    "print(\"Recall: \", recall_DTC)"
   ]
  },
  {
   "cell_type": "markdown",
   "metadata": {},
   "source": [
    "### Random Forest Classifier"
   ]
  },
  {
   "cell_type": "code",
   "execution_count": 119,
   "metadata": {},
   "outputs": [
    {
     "name": "stdout",
     "output_type": "stream",
     "text": [
      "Accuracy: 0.903271692745377\n",
      "Cross-Validation Score 0.9032723778942244\n"
     ]
    }
   ],
   "source": [
    "RFC = ek.RandomForestClassifier(max_depth=10)\n",
    "RFC.fit(X_train, y_train)\n",
    "RFC_predicted = RFC.predict(X_test)\n",
    "RFC_acc = accuracy_score(y_test,RFC_predicted)\n",
    "print(\"Accuracy:\",RFC_acc)\n",
    "\n",
    "RFC_scores = cross_val_score(RFC, X_train, y_train, cv=10)\n",
    "print('Cross-Validation Score', RFC_scores.mean())"
   ]
  },
  {
   "cell_type": "code",
   "execution_count": 111,
   "metadata": {},
   "outputs": [
    {
     "data": {
      "text/plain": [
       "array([[631,  73],\n",
       "       [ 63, 639]])"
      ]
     },
     "execution_count": 111,
     "metadata": {},
     "output_type": "execute_result"
    }
   ],
   "source": [
    "confusion_matrix(y_test, RFC_predicted)"
   ]
  },
  {
   "cell_type": "code",
   "execution_count": 112,
   "metadata": {},
   "outputs": [
    {
     "name": "stdout",
     "output_type": "stream",
     "text": [
      "Precision:  0.8963068181818182\n",
      "Recall:  0.909221902017291\n"
     ]
    }
   ],
   "source": [
    "tp_RFC = confusion_matrix(y_test, RFC_predicted)[0,0]\n",
    "fp_RFC = confusion_matrix(y_test, RFC_predicted)[0,1]\n",
    "tn_RFC = confusion_matrix(y_test, RFC_predicted)[1,1]\n",
    "fn_RFC = confusion_matrix(y_test, RFC_predicted)[1,0]\n",
    "\n",
    "precison_RFC = tp_RFC/(tp_RFC+fp_RFC)\n",
    "recall_RFC = tp_RFC/(tp_RFC+fn_RFC)\n",
    "\n",
    "print(\"Precision: \", precison_RFC)\n",
    "print(\"Recall: \", recall_RFC)"
   ]
  },
  {
   "cell_type": "markdown",
   "metadata": {},
   "source": [
    "### AdaBoostClassifier"
   ]
  },
  {
   "cell_type": "code",
   "execution_count": 120,
   "metadata": {},
   "outputs": [
    {
     "name": "stdout",
     "output_type": "stream",
     "text": [
      "Accuracy: 0.8897581792318634\n",
      "Cross-Validation Score 0.8723333312263358\n"
     ]
    }
   ],
   "source": [
    "ABC = ek.AdaBoostClassifier(n_estimators=50)\n",
    "ABC.fit(X_train, y_train)\n",
    "ABC_predicted = ABC.predict(X_test)\n",
    "ABC_acc = accuracy_score(y_test,ABC_predicted)\n",
    "print(\"Accuracy:\",ABC_acc)\n",
    "\n",
    "ABC_scores = cross_val_score(ABC, X_train, y_train, cv=10)\n",
    "print('Cross-Validation Score', ABC_scores.mean())"
   ]
  },
  {
   "cell_type": "code",
   "execution_count": 114,
   "metadata": {},
   "outputs": [
    {
     "data": {
      "text/plain": [
       "array([[621,  83],\n",
       "       [ 72, 630]])"
      ]
     },
     "execution_count": 114,
     "metadata": {},
     "output_type": "execute_result"
    }
   ],
   "source": [
    "confusion_matrix(y_test, ABC_predicted)"
   ]
  },
  {
   "cell_type": "code",
   "execution_count": 115,
   "metadata": {},
   "outputs": [
    {
     "name": "stdout",
     "output_type": "stream",
     "text": [
      "Precision:  0.8821022727272727\n",
      "Recall:  0.8961038961038961\n"
     ]
    }
   ],
   "source": [
    "tp_ABC = confusion_matrix(y_test, ABC_predicted)[0,0]\n",
    "fp_ABC = confusion_matrix(y_test, ABC_predicted)[0,1]\n",
    "tn_ABC = confusion_matrix(y_test, ABC_predicted)[1,1]\n",
    "fn_ABC = confusion_matrix(y_test, ABC_predicted)[1,0]\n",
    "\n",
    "precison_ABC = tp_ABC/(tp_ABC+fp_ABC)\n",
    "recall_ABC = tp_ABC/(tp_ABC+fn_ABC)\n",
    "\n",
    "print(\"Precision: \", precison_ABC)\n",
    "print(\"Recall: \", recall_ABC)"
   ]
  },
  {
   "cell_type": "code",
   "execution_count": 122,
   "metadata": {},
   "outputs": [
    {
     "data": {
      "text/html": [
       "<div>\n",
       "<style scoped>\n",
       "    .dataframe tbody tr th:only-of-type {\n",
       "        vertical-align: middle;\n",
       "    }\n",
       "\n",
       "    .dataframe tbody tr th {\n",
       "        vertical-align: top;\n",
       "    }\n",
       "\n",
       "    .dataframe thead th {\n",
       "        text-align: right;\n",
       "    }\n",
       "</style>\n",
       "<table border=\"1\" class=\"dataframe\">\n",
       "  <thead>\n",
       "    <tr style=\"text-align: right;\">\n",
       "      <th></th>\n",
       "      <th>Model</th>\n",
       "      <th>True Positive</th>\n",
       "      <th>False Positive</th>\n",
       "      <th>True Negative</th>\n",
       "      <th>False Negative</th>\n",
       "      <th>Accuracy</th>\n",
       "      <th>Cross-Validation</th>\n",
       "    </tr>\n",
       "  </thead>\n",
       "  <tbody>\n",
       "    <tr>\n",
       "      <th>0</th>\n",
       "      <td>Logistic Regression</td>\n",
       "      <td>596</td>\n",
       "      <td>108</td>\n",
       "      <td>597</td>\n",
       "      <td>105</td>\n",
       "      <td>0.848506</td>\n",
       "      <td>0.845310</td>\n",
       "    </tr>\n",
       "    <tr>\n",
       "      <th>1</th>\n",
       "      <td>Gaussian Naive Bayes</td>\n",
       "      <td>695</td>\n",
       "      <td>9</td>\n",
       "      <td>293</td>\n",
       "      <td>409</td>\n",
       "      <td>0.702703</td>\n",
       "      <td>0.662166</td>\n",
       "    </tr>\n",
       "    <tr>\n",
       "      <th>2</th>\n",
       "      <td>Decision Tree Classifier</td>\n",
       "      <td>634</td>\n",
       "      <td>70</td>\n",
       "      <td>632</td>\n",
       "      <td>70</td>\n",
       "      <td>0.901138</td>\n",
       "      <td>0.895443</td>\n",
       "    </tr>\n",
       "    <tr>\n",
       "      <th>3</th>\n",
       "      <td>Random Forest Classifier</td>\n",
       "      <td>631</td>\n",
       "      <td>73</td>\n",
       "      <td>639</td>\n",
       "      <td>63</td>\n",
       "      <td>0.903272</td>\n",
       "      <td>0.903272</td>\n",
       "    </tr>\n",
       "    <tr>\n",
       "      <th>4</th>\n",
       "      <td>AdaBoostClassifier</td>\n",
       "      <td>621</td>\n",
       "      <td>83</td>\n",
       "      <td>630</td>\n",
       "      <td>72</td>\n",
       "      <td>0.889758</td>\n",
       "      <td>0.872333</td>\n",
       "    </tr>\n",
       "  </tbody>\n",
       "</table>\n",
       "</div>"
      ],
      "text/plain": [
       "                      Model  True Positive  False Positive  True Negative  \\\n",
       "0       Logistic Regression            596             108            597   \n",
       "1      Gaussian Naive Bayes            695               9            293   \n",
       "2  Decision Tree Classifier            634              70            632   \n",
       "3  Random Forest Classifier            631              73            639   \n",
       "4        AdaBoostClassifier            621              83            630   \n",
       "\n",
       "   False Negative  Accuracy  Cross-Validation  \n",
       "0             105  0.848506          0.845310  \n",
       "1             409  0.702703          0.662166  \n",
       "2              70  0.901138          0.895443  \n",
       "3              63  0.903272          0.903272  \n",
       "4              72  0.889758          0.872333  "
      ]
     },
     "execution_count": 122,
     "metadata": {},
     "output_type": "execute_result"
    }
   ],
   "source": [
    "models = [('Logistic Regression', tp_lr, fp_lr, tn_lr, fn_lr, lr_acc, lr_scores.mean()),\n",
    "          ('Gaussian Naive Bayes', tp_GNB, fp_GNB, tn_GNB, fn_GNB, GNB_acc, GNB_scores.mean()),\n",
    "          ('Decision Tree Classifier', tp_DTC, fp_DTC, tn_DTC, fn_DTC, DTC_acc, DTC_scores.mean()),\n",
    "          ('Random Forest Classifier', tp_RFC, fp_RFC, tn_RFC, fn_RFC, RFC_acc, RFC_scores.mean()),\n",
    "          ('AdaBoostClassifier', tp_ABC, fp_ABC, tn_ABC, fn_ABC, ABC_acc, ABC_scores.mean()),\n",
    "         ]\n",
    "\n",
    "predict = pd.DataFrame(data = models, columns=['Model', 'True Positive', 'False Positive', 'True Negative',\n",
    "                                               'False Negative', 'Accuracy',\n",
    "                                               'Cross-Validation'])\n",
    "predict"
   ]
  },
  {
   "cell_type": "code",
   "execution_count": 123,
   "metadata": {},
   "outputs": [
    {
     "data": {
      "image/png": "[encoded data removed]",
      "text/plain": [
       "<Figure size 1296x432 with 1 Axes>"
      ]
     },
     "metadata": {},
     "output_type": "display_data"
    }
   ],
   "source": [
    "f, axe = plt.subplots(1,1, figsize=(18,6))\n",
    "predict.sort_values(by=['Cross-Validation'], ascending=False, inplace=True)\n",
    "sns.barplot(x='Cross-Validation', y='Model', data = predict, ax = axe)\n",
    "axe.set_xlabel('Cross-Validaton Score', size=16)\n",
    "axe.set_ylabel('Model')\n",
    "axe.set_xlim(0,1.0)\n",
    "axe.set_xticks(np.arange(0, 1.1, 0.1))\n",
    "plt.show()"
   ]
  }
 ],
 "metadata": {
  "kernelspec": {
   "display_name": "Python 3",
   "language": "python",
   "name": "python3"
  },
  "language_info": {
   "codemirror_mode": {
    "name": "ipython",
    "version": 3
   },
   "file_extension": ".py",
   "mimetype": "text/x-python",
   "name": "python",
   "nbconvert_exporter": "python",
   "pygments_lexer": "ipython3",
   "version": "3.7.4"
  }
 },
 "nbformat": 4,
 "nbformat_minor": 2
}
